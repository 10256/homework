{
 "cells": [
  {
   "cell_type": "code",
   "execution_count": 411,
   "metadata": {
    "collapsed": true
   },
   "outputs": [],
   "source": [
    "from sklearn.datasets import load_svmlight_file\n",
    "from sklearn.model_selection import train_test_split\n",
    "import numpy as np\n",
    "import random\n",
    "\n",
    "X, y = load_svmlight_file(\"C:\\\\Users\\\\Administrator\\\\Desktop\\\\australian.txt\")\n",
    "X_train, X_test, y_train, y_test = train_test_split(X, y, test_size=0.3,random_state=42)"
   ]
  },
  {
   "cell_type": "code",
   "execution_count": 412,
   "metadata": {
    "collapsed": true
   },
   "outputs": [],
   "source": [
    "X_train = X_train.toarray()\n",
    "X_test = X_test.toarray()\n",
    "\n",
    "X_train = np.array(X_train)\n",
    "X_test = np.array(X_test)\n",
    "\n",
    "X_train = np.column_stack((X_train, np.ones(X_train.shape[0])))\n",
    "X_test = np.column_stack((X_test, np.ones(X_test.shape[0])))\n",
    "\n",
    "y_train = np.array(y_train).reshape(y_train.shape[0],1)\n",
    "y_test = np.array(y_test).reshape(y_test.shape[0],1)"
   ]
  },
  {
   "cell_type": "code",
   "execution_count": 413,
   "metadata": {
    "collapsed": true
   },
   "outputs": [],
   "source": [
    "def loss (X, W, y):\n",
    "    ret = 0\n",
    "    tmp = X.dot(W) * y\n",
    "    for i in range(0,tmp.shape[0]):\n",
    "        if tmp[i][0] < 1 :\n",
    "            ret += 1 - tmp[i][0]\n",
    "    global C\n",
    "    ret *= C\n",
    "    ret += ((W * W).sum() - W[W.shape[0]-1][0] * W[W.shape[0]-1][0]) / 2\n",
    "    return ret / X.shape[0]"
   ]
  },
  {
   "cell_type": "code",
   "execution_count": 414,
   "metadata": {
    "collapsed": true
   },
   "outputs": [],
   "source": [
    "def grad (X, W, y):\n",
    "    tmp = X.dot(W) * y\n",
    "    X_tmp = []\n",
    "    y_tmp = []\n",
    "    for i in range(0,tmp.shape[0]):\n",
    "        if tmp[i][0] <= 1 :\n",
    "            X_tmp.append(X[i])\n",
    "            y_tmp.append(y[i])\n",
    "    X_tmp = np.array(X_tmp)\n",
    "    y_tmp = np.array(y_tmp)\n",
    "    global C\n",
    "    tmp = X_tmp.T.dot(y_tmp) * C\n",
    "    ret = W - tmp\n",
    "    ret[ret.shape[0]-1][0] = -1.0 * C * y_tmp.sum()\n",
    "    return ret"
   ]
  },
  {
   "cell_type": "code",
   "execution_count": 415,
   "metadata": {
    "scrolled": false
   },
   "outputs": [
    {
     "data": {
      "image/png": "[encoded data removed]",
      "text/plain": [
       "<matplotlib.figure.Figure at 0xb38c9e8>"
      ]
     },
     "metadata": {},
     "output_type": "display_data"
    }
   ],
   "source": [
    "train = []\n",
    "test = []\n",
    "time = []\n",
    "\n",
    "rate = 0.002\n",
    "C = 0.1\n",
    "\n",
    "W = np.zeros((X_train.shape[1], 1))\n",
    "for i in range(0, X_train.shape[1]):\n",
    "    W[i][0] = random.uniform(-10.0, 10.0)\n",
    "\n",
    "for i in range(1,5001):\n",
    "    D = grad(X_train, W, y_train)\n",
    "    W -= rate * D\n",
    "    time.append(i)\n",
    "    train.append(loss(X_train, W, y_train))\n",
    "    test.append(loss(X_test, W, y_test))\n",
    "    \n",
    "\n",
    "import matplotlib.pyplot as plt\n",
    "\n",
    "plt.plot(time, train, label='train set')\n",
    "plt.plot(time, test, label='test set')\n",
    "plt.legend(loc='upper right')\n",
    "plt.xlabel('time')\n",
    "plt.ylabel('loss')\n",
    "plt.show()\n"
   ]
  }
 ],
 "metadata": {
  "kernelspec": {
   "display_name": "Python 3",
   "language": "python",
   "name": "python3"
  },
  "language_info": {
   "codemirror_mode": {
    "name": "ipython",
    "version": 3
   },
   "file_extension": ".py",
   "mimetype": "text/x-python",
   "name": "python",
   "nbconvert_exporter": "python",
   "pygments_lexer": "ipython3",
   "version": "3.6.3"
  }
 },
 "nbformat": 4,
 "nbformat_minor": 2
}
